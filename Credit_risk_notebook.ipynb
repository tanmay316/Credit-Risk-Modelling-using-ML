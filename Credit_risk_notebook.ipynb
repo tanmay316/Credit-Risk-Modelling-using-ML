{
  "nbformat": 4,
  "nbformat_minor": 0,
  "metadata": {
    "colab": {
      "provenance": []
    },
    "kernelspec": {
      "name": "python3",
      "display_name": "Python 3"
    },
    "language_info": {
      "name": "python"
    }
  },
  "cells": [
    {
      "cell_type": "code",
      "execution_count": 3,
      "metadata": {
        "collapsed": true,
        "id": "kYEwcKPOQoKV"
      },
      "outputs": [],
      "source": [
        "# Import necessary libraries\n",
        "import numpy as np\n",
        "import pandas as pd\n",
        "import matplotlib.pyplot as plt\n",
        "from sklearn.metrics import r2_score\n",
        "from scipy.stats import chi2_contingency\n",
        "from statsmodels.stats.outliers_influence import variance_inflation_factor\n",
        "from sklearn.model_selection import train_test_split\n",
        "from sklearn.ensemble import RandomForestClassifier\n",
        "from sklearn.metrics import accuracy_score, classification_report, precision_recall_fscore_support\n",
        "import warnings\n",
        "import os\n",
        "import xgboost as xgb\n",
        "from sklearn.preprocessing import LabelEncoder\n",
        "\n",
        "\n",
        "# Load the dataset\n",
        "a1 = pd.read_excel(\"/content/case_study1.xlsx\")\n",
        "a2 = pd.read_excel(\"/content/case_study2.xlsx\")\n",
        "\n",
        "\n",
        "df1 = a1.copy()\n",
        "df2 = a2.copy()\n"
      ]
    },
    {
      "cell_type": "code",
      "source": [
        "# Remove nulls\n",
        "df1 = df1.loc[df1['Age_Oldest_TL'] != -99999]\n",
        "\n",
        "\n",
        "\n",
        "\n",
        "columns_to_be_removed = []\n",
        "\n",
        "for i in df2.columns:\n",
        "    if df2.loc[df2[i] == -99999].shape[0] > 10000:\n",
        "        columns_to_be_removed .append(i)\n",
        "\n",
        "\n",
        "\n",
        "df2 = df2.drop(columns_to_be_removed, axis =1)\n",
        "\n",
        "\n",
        "\n",
        "for i in df2.columns:\n",
        "    df2 = df2.loc[ df2[i] != -99999 ]\n"
      ],
      "metadata": {
        "id": "h6kIkiqeV5gB"
      },
      "execution_count": 4,
      "outputs": []
    },
    {
      "cell_type": "code",
      "source": [
        "# Checking common column names\n",
        "for i in list(df1.columns):\n",
        "    if i in list(df2.columns):\n",
        "        print (i)\n",
        ""
      ],
      "metadata": {
        "colab": {
          "base_uri": "https://localhost:8080/"
        },
        "id": "0ifXsnrxV5bx",
        "outputId": "96de04f0-65f9-46ca-fba5-37498a37ac40"
      },
      "execution_count": 5,
      "outputs": [
        {
          "output_type": "stream",
          "name": "stdout",
          "text": [
            "PROSPECTID\n"
          ]
        }
      ]
    },
    {
      "cell_type": "code",
      "source": [
        "# Merge the two dataframes, inner join so that no nulls are present\n",
        "df = pd. merge ( df1, df2, how ='inner', left_on = ['PROSPECTID'], right_on = ['PROSPECTID'] )\n"
      ],
      "metadata": {
        "id": "zL2FwHNpV5XD"
      },
      "execution_count": 6,
      "outputs": []
    },
    {
      "cell_type": "code",
      "source": [
        "# check how many columns are categorical\n",
        "for i in df.columns:\n",
        "    if df[i].dtype == 'object':\n",
        "        print(i)"
      ],
      "metadata": {
        "colab": {
          "base_uri": "https://localhost:8080/"
        },
        "id": "HIXwbgaiV5RY",
        "outputId": "9644e4b0-8e6a-4e89-ec54-08524ef498bf"
      },
      "execution_count": 7,
      "outputs": [
        {
          "output_type": "stream",
          "name": "stdout",
          "text": [
            "MARITALSTATUS\n",
            "EDUCATION\n",
            "GENDER\n",
            "last_prod_enq2\n",
            "first_prod_enq2\n",
            "Approved_Flag\n"
          ]
        }
      ]
    },
    {
      "cell_type": "code",
      "source": [
        "# Chi-square test\n",
        "for i in ['MARITALSTATUS', 'EDUCATION', 'GENDER', 'last_prod_enq2', 'first_prod_enq2']:\n",
        "    chi2, pval, _, _ = chi2_contingency(pd.crosstab(df[i], df['Approved_Flag']))\n",
        "    print(i, '---', pval)\n",
        "\n",
        "\n",
        "# Since all the categorical features have pval <=0.05, we will accept all\n"
      ],
      "metadata": {
        "colab": {
          "base_uri": "https://localhost:8080/"
        },
        "id": "NYb0kHZ6V5Nj",
        "outputId": "a99520d3-11a7-472d-bbab-d5d64cc1b58f"
      },
      "execution_count": 8,
      "outputs": [
        {
          "output_type": "stream",
          "name": "stdout",
          "text": [
            "MARITALSTATUS --- 3.578180861038862e-233\n",
            "EDUCATION --- 2.6942265249737532e-30\n",
            "GENDER --- 1.907936100186563e-05\n",
            "last_prod_enq2 --- 0.0\n",
            "first_prod_enq2 --- 7.84997610555419e-287\n"
          ]
        }
      ]
    },
    {
      "cell_type": "code",
      "source": [
        "# VIF for numerical columns\n",
        "numeric_columns = []\n",
        "for i in df.columns:\n",
        "    if df[i].dtype != 'object' and i not in ['PROSPECTID','Approved_Flag']:\n",
        "        numeric_columns.append(i)\n",
        "\n",
        "\n",
        "\n",
        "\n",
        "\n",
        "# VIF sequentially check\n",
        "\n",
        "vif_data = df[numeric_columns]\n",
        "total_columns = vif_data.shape[1]\n",
        "columns_to_be_kept = []\n",
        "column_index = 0\n",
        "\n",
        "\n",
        "\n",
        "for i in range (0,total_columns):\n",
        "\n",
        "    vif_value = variance_inflation_factor(vif_data, column_index)\n",
        "    print (column_index,'---',vif_value)\n",
        "\n",
        "\n",
        "    if vif_value <= 6:\n",
        "        columns_to_be_kept.append( numeric_columns[i] )\n",
        "        column_index = column_index+1\n",
        "\n",
        "    else:\n",
        "        vif_data = vif_data.drop([ numeric_columns[i] ] , axis=1)\n",
        "\n",
        ""
      ],
      "metadata": {
        "colab": {
          "base_uri": "https://localhost:8080/"
        },
        "id": "XVNBQBJFV5KP",
        "outputId": "983ece22-163b-4c52-a36f-c6e149ed957c"
      },
      "execution_count": 9,
      "outputs": [
        {
          "output_type": "stream",
          "name": "stderr",
          "text": [
            "/usr/local/lib/python3.10/dist-packages/statsmodels/stats/outliers_influence.py:197: RuntimeWarning: divide by zero encountered in scalar divide\n",
            "  vif = 1. / (1. - r_squared_i)\n"
          ]
        },
        {
          "output_type": "stream",
          "name": "stdout",
          "text": [
            "0 --- inf\n"
          ]
        },
        {
          "output_type": "stream",
          "name": "stderr",
          "text": [
            "/usr/local/lib/python3.10/dist-packages/statsmodels/stats/outliers_influence.py:197: RuntimeWarning: divide by zero encountered in scalar divide\n",
            "  vif = 1. / (1. - r_squared_i)\n"
          ]
        },
        {
          "output_type": "stream",
          "name": "stdout",
          "text": [
            "0 --- inf\n",
            "0 --- 11.320180023967996\n",
            "0 --- 8.363698035000336\n",
            "0 --- 6.520647877790928\n",
            "0 --- 5.149501618212625\n",
            "1 --- 2.611111040579735\n"
          ]
        },
        {
          "output_type": "stream",
          "name": "stderr",
          "text": [
            "/usr/local/lib/python3.10/dist-packages/statsmodels/stats/outliers_influence.py:197: RuntimeWarning: divide by zero encountered in scalar divide\n",
            "  vif = 1. / (1. - r_squared_i)\n"
          ]
        },
        {
          "output_type": "stream",
          "name": "stdout",
          "text": [
            "2 --- inf\n",
            "2 --- 1788.7926256209232\n",
            "2 --- 8.601028256477228\n",
            "2 --- 3.832800792153077\n",
            "3 --- 6.099653381646723\n",
            "3 --- 5.581352009642766\n",
            "4 --- 1.985584353098778\n"
          ]
        },
        {
          "output_type": "stream",
          "name": "stderr",
          "text": [
            "/usr/local/lib/python3.10/dist-packages/statsmodels/stats/outliers_influence.py:197: RuntimeWarning: divide by zero encountered in scalar divide\n",
            "  vif = 1. / (1. - r_squared_i)\n"
          ]
        },
        {
          "output_type": "stream",
          "name": "stdout",
          "text": [
            "5 --- inf\n",
            "5 --- 4.80953830281934\n",
            "6 --- 23.270628983464636\n",
            "6 --- 30.595522588100053\n",
            "6 --- 4.384346405965583\n",
            "7 --- 3.0646584155234238\n",
            "8 --- 2.898639771299251\n",
            "9 --- 4.377876915347324\n",
            "10 --- 2.207853583695844\n",
            "11 --- 4.916914200506864\n",
            "12 --- 5.214702030064725\n",
            "13 --- 3.3861625024231476\n",
            "14 --- 7.840583309478997\n",
            "14 --- 5.255034641721434\n"
          ]
        },
        {
          "output_type": "stream",
          "name": "stderr",
          "text": [
            "/usr/local/lib/python3.10/dist-packages/statsmodels/stats/outliers_influence.py:197: RuntimeWarning: divide by zero encountered in scalar divide\n",
            "  vif = 1. / (1. - r_squared_i)\n"
          ]
        },
        {
          "output_type": "stream",
          "name": "stdout",
          "text": [
            "15 --- inf\n",
            "15 --- 7.380634506427238\n",
            "15 --- 1.4210050015175733\n",
            "16 --- 8.083255010190316\n",
            "16 --- 1.6241227524040114\n",
            "17 --- 7.257811920140003\n",
            "17 --- 15.59624383268298\n",
            "17 --- 1.825857047132431\n",
            "18 --- 1.5080839450032664\n",
            "19 --- 2.172088834824578\n",
            "20 --- 2.6233975535272274\n",
            "21 --- 2.2959970812106176\n",
            "22 --- 7.360578319196446\n",
            "22 --- 2.1602387773102567\n",
            "23 --- 2.8686288267891467\n",
            "24 --- 6.458218003637272\n",
            "24 --- 2.8474118865638247\n",
            "25 --- 4.753198156284083\n",
            "26 --- 16.22735475594825\n",
            "26 --- 6.424377256363877\n",
            "26 --- 8.887080381808678\n",
            "26 --- 2.3804746142952653\n",
            "27 --- 8.60951347651454\n",
            "27 --- 13.06755093547673\n",
            "27 --- 3.500040056654653\n",
            "28 --- 1.9087955874813773\n",
            "29 --- 17.006562234161628\n",
            "29 --- 10.730485153719197\n",
            "29 --- 2.3538497522950275\n",
            "30 --- 22.10485591513649\n",
            "30 --- 2.7971639638512924\n",
            "31 --- 3.424171203217696\n",
            "32 --- 10.175021454450922\n",
            "32 --- 6.408710354561292\n",
            "32 --- 1.001151196262563\n",
            "33 --- 3.069197305397273\n",
            "34 --- 2.8091261600643724\n",
            "35 --- 20.249538381980678\n",
            "35 --- 15.864576541593774\n",
            "35 --- 1.833164974053215\n",
            "36 --- 1.5680839909542046\n",
            "37 --- 1.9307572353811682\n",
            "38 --- 4.331265056645244\n",
            "39 --- 9.390334396150173\n"
          ]
        }
      ]
    },
    {
      "cell_type": "code",
      "source": [
        "# check Anova for columns_to_be_kept\n",
        "\n",
        "from scipy.stats import f_oneway\n",
        "\n",
        "columns_to_be_kept_numerical = []\n",
        "\n",
        "for i in columns_to_be_kept:\n",
        "    a = list(df[i])\n",
        "    b = list(df['Approved_Flag'])\n",
        "\n",
        "    group_P1 = [value for value, group in zip(a, b) if group == 'P1']\n",
        "    group_P2 = [value for value, group in zip(a, b) if group == 'P2']\n",
        "    group_P3 = [value for value, group in zip(a, b) if group == 'P3']\n",
        "    group_P4 = [value for value, group in zip(a, b) if group == 'P4']\n",
        "\n",
        "\n",
        "    f_statistic, p_value = f_oneway(group_P1, group_P2, group_P3, group_P4)\n",
        "\n",
        "    if p_value <= 0.05:\n",
        "        columns_to_be_kept_numerical.append(i)\n",
        "\n",
        "\n"
      ],
      "metadata": {
        "id": "s5vmMdAYXmKj"
      },
      "execution_count": 10,
      "outputs": []
    },
    {
      "cell_type": "markdown",
      "source": [
        "\n",
        "**feature selection is done for cat. and num features **"
      ],
      "metadata": {
        "id": "DSRHmkzyXvzV"
      }
    },
    {
      "cell_type": "code",
      "source": [
        "# listing all the final features\n",
        "features = columns_to_be_kept_numerical + ['MARITALSTATUS', 'EDUCATION', 'GENDER', 'last_prod_enq2', 'first_prod_enq2']\n",
        "df = df[features + ['Approved_Flag']]"
      ],
      "metadata": {
        "id": "ax9RDAgnV5Gf"
      },
      "execution_count": 11,
      "outputs": []
    },
    {
      "cell_type": "code",
      "source": [
        "\n",
        "# Label encoding for the categorical features\n",
        "['MARITALSTATUS', 'EDUCATION', 'GENDER' , 'last_prod_enq2' ,'first_prod_enq2']\n",
        "\n",
        "\n",
        "\n",
        "df['MARITALSTATUS'].unique()\n",
        "df['EDUCATION'].unique()\n",
        "df['GENDER'].unique()\n",
        "df['last_prod_enq2'].unique()\n",
        "df['first_prod_enq2'].unique()"
      ],
      "metadata": {
        "colab": {
          "base_uri": "https://localhost:8080/"
        },
        "id": "oNWvAtmBV5DB",
        "outputId": "75d77642-d817-4a65-d662-c7a37e85c80f"
      },
      "execution_count": 12,
      "outputs": [
        {
          "output_type": "execute_result",
          "data": {
            "text/plain": [
              "array(['PL', 'ConsumerLoan', 'others', 'AL', 'HL', 'CC'], dtype=object)"
            ]
          },
          "metadata": {},
          "execution_count": 12
        }
      ]
    },
    {
      "cell_type": "markdown",
      "source": [
        "Ordinal feature -- EDUCATION\n",
        "\n",
        "SSC            : 1\n",
        "\n",
        " 12TH           : 2\n",
        "\n",
        " GRADUATE       : 3\n",
        "\n",
        " UNDER GRADUATE : 3\n",
        "\n",
        " POST-GRADUATE  : 4\n",
        "\n",
        " OTHERS         : 1\n",
        "\n",
        " PROFESSIONAL   : 3\n",
        "\n",
        " Others has to be verified by the business end user"
      ],
      "metadata": {
        "id": "a6ROaXTgY_2E"
      }
    },
    {
      "cell_type": "code",
      "source": [
        "df.loc[df['EDUCATION'] == 'SSC',['EDUCATION']]             = 1\n",
        "df.loc[df['EDUCATION'] == '12TH',['EDUCATION']]             = 2\n",
        "df.loc[df['EDUCATION'] == 'GRADUATE',['EDUCATION']]         = 3\n",
        "df.loc[df['EDUCATION'] == 'UNDER GRADUATE',['EDUCATION']]   = 3\n",
        "df.loc[df['EDUCATION'] == 'POST-GRADUATE',['EDUCATION']]    = 4\n",
        "df.loc[df['EDUCATION'] == 'OTHERS',['EDUCATION']]           = 1\n",
        "df.loc[df['EDUCATION'] == 'PROFESSIONAL',['EDUCATION']]     = 3\n",
        "\n",
        "\n",
        "\n",
        "\n",
        "df['EDUCATION'].value_counts()\n",
        "df['EDUCATION'] = df['EDUCATION'].astype(int)\n",
        "df.info()\n",
        "\n",
        "\n",
        "\n",
        "df_encoded = pd.get_dummies(df, columns=['MARITALSTATUS','GENDER', 'last_prod_enq2' ,'first_prod_enq2'])\n",
        "\n",
        "\n",
        "\n",
        "df_encoded.info()\n",
        "k = df_encoded.describe()\n"
      ],
      "metadata": {
        "colab": {
          "base_uri": "https://localhost:8080/"
        },
        "collapsed": true,
        "id": "vuW0f0PyV4_h",
        "outputId": "efa4fa9a-670c-4531-9081-dc6a9a74bd15"
      },
      "execution_count": 13,
      "outputs": [
        {
          "output_type": "stream",
          "name": "stdout",
          "text": [
            "<class 'pandas.core.frame.DataFrame'>\n",
            "RangeIndex: 42064 entries, 0 to 42063\n",
            "Data columns (total 43 columns):\n",
            " #   Column                     Non-Null Count  Dtype  \n",
            "---  ------                     --------------  -----  \n",
            " 0   pct_tl_open_L6M            42064 non-null  float64\n",
            " 1   pct_tl_closed_L6M          42064 non-null  float64\n",
            " 2   Tot_TL_closed_L12M         42064 non-null  int64  \n",
            " 3   pct_tl_closed_L12M         42064 non-null  float64\n",
            " 4   Tot_Missed_Pmnt            42064 non-null  int64  \n",
            " 5   CC_TL                      42064 non-null  int64  \n",
            " 6   Home_TL                    42064 non-null  int64  \n",
            " 7   PL_TL                      42064 non-null  int64  \n",
            " 8   Secured_TL                 42064 non-null  int64  \n",
            " 9   Unsecured_TL               42064 non-null  int64  \n",
            " 10  Other_TL                   42064 non-null  int64  \n",
            " 11  Age_Oldest_TL              42064 non-null  int64  \n",
            " 12  Age_Newest_TL              42064 non-null  int64  \n",
            " 13  time_since_recent_payment  42064 non-null  int64  \n",
            " 14  max_recent_level_of_deliq  42064 non-null  int64  \n",
            " 15  num_deliq_6_12mts          42064 non-null  int64  \n",
            " 16  num_times_60p_dpd          42064 non-null  int64  \n",
            " 17  num_std_12mts              42064 non-null  int64  \n",
            " 18  num_sub                    42064 non-null  int64  \n",
            " 19  num_sub_6mts               42064 non-null  int64  \n",
            " 20  num_sub_12mts              42064 non-null  int64  \n",
            " 21  num_dbt                    42064 non-null  int64  \n",
            " 22  num_dbt_12mts              42064 non-null  int64  \n",
            " 23  num_lss                    42064 non-null  int64  \n",
            " 24  recent_level_of_deliq      42064 non-null  int64  \n",
            " 25  CC_enq_L12m                42064 non-null  int64  \n",
            " 26  PL_enq_L12m                42064 non-null  int64  \n",
            " 27  time_since_recent_enq      42064 non-null  int64  \n",
            " 28  enq_L3m                    42064 non-null  int64  \n",
            " 29  NETMONTHLYINCOME           42064 non-null  int64  \n",
            " 30  Time_With_Curr_Empr        42064 non-null  int64  \n",
            " 31  CC_Flag                    42064 non-null  int64  \n",
            " 32  PL_Flag                    42064 non-null  int64  \n",
            " 33  pct_PL_enq_L6m_of_ever     42064 non-null  float64\n",
            " 34  pct_CC_enq_L6m_of_ever     42064 non-null  float64\n",
            " 35  HL_Flag                    42064 non-null  int64  \n",
            " 36  GL_Flag                    42064 non-null  int64  \n",
            " 37  MARITALSTATUS              42064 non-null  object \n",
            " 38  EDUCATION                  42064 non-null  int64  \n",
            " 39  GENDER                     42064 non-null  object \n",
            " 40  last_prod_enq2             42064 non-null  object \n",
            " 41  first_prod_enq2            42064 non-null  object \n",
            " 42  Approved_Flag              42064 non-null  object \n",
            "dtypes: float64(5), int64(33), object(5)\n",
            "memory usage: 13.8+ MB\n",
            "<class 'pandas.core.frame.DataFrame'>\n",
            "RangeIndex: 42064 entries, 0 to 42063\n",
            "Data columns (total 55 columns):\n",
            " #   Column                        Non-Null Count  Dtype  \n",
            "---  ------                        --------------  -----  \n",
            " 0   pct_tl_open_L6M               42064 non-null  float64\n",
            " 1   pct_tl_closed_L6M             42064 non-null  float64\n",
            " 2   Tot_TL_closed_L12M            42064 non-null  int64  \n",
            " 3   pct_tl_closed_L12M            42064 non-null  float64\n",
            " 4   Tot_Missed_Pmnt               42064 non-null  int64  \n",
            " 5   CC_TL                         42064 non-null  int64  \n",
            " 6   Home_TL                       42064 non-null  int64  \n",
            " 7   PL_TL                         42064 non-null  int64  \n",
            " 8   Secured_TL                    42064 non-null  int64  \n",
            " 9   Unsecured_TL                  42064 non-null  int64  \n",
            " 10  Other_TL                      42064 non-null  int64  \n",
            " 11  Age_Oldest_TL                 42064 non-null  int64  \n",
            " 12  Age_Newest_TL                 42064 non-null  int64  \n",
            " 13  time_since_recent_payment     42064 non-null  int64  \n",
            " 14  max_recent_level_of_deliq     42064 non-null  int64  \n",
            " 15  num_deliq_6_12mts             42064 non-null  int64  \n",
            " 16  num_times_60p_dpd             42064 non-null  int64  \n",
            " 17  num_std_12mts                 42064 non-null  int64  \n",
            " 18  num_sub                       42064 non-null  int64  \n",
            " 19  num_sub_6mts                  42064 non-null  int64  \n",
            " 20  num_sub_12mts                 42064 non-null  int64  \n",
            " 21  num_dbt                       42064 non-null  int64  \n",
            " 22  num_dbt_12mts                 42064 non-null  int64  \n",
            " 23  num_lss                       42064 non-null  int64  \n",
            " 24  recent_level_of_deliq         42064 non-null  int64  \n",
            " 25  CC_enq_L12m                   42064 non-null  int64  \n",
            " 26  PL_enq_L12m                   42064 non-null  int64  \n",
            " 27  time_since_recent_enq         42064 non-null  int64  \n",
            " 28  enq_L3m                       42064 non-null  int64  \n",
            " 29  NETMONTHLYINCOME              42064 non-null  int64  \n",
            " 30  Time_With_Curr_Empr           42064 non-null  int64  \n",
            " 31  CC_Flag                       42064 non-null  int64  \n",
            " 32  PL_Flag                       42064 non-null  int64  \n",
            " 33  pct_PL_enq_L6m_of_ever        42064 non-null  float64\n",
            " 34  pct_CC_enq_L6m_of_ever        42064 non-null  float64\n",
            " 35  HL_Flag                       42064 non-null  int64  \n",
            " 36  GL_Flag                       42064 non-null  int64  \n",
            " 37  EDUCATION                     42064 non-null  int64  \n",
            " 38  Approved_Flag                 42064 non-null  object \n",
            " 39  MARITALSTATUS_Married         42064 non-null  bool   \n",
            " 40  MARITALSTATUS_Single          42064 non-null  bool   \n",
            " 41  GENDER_F                      42064 non-null  bool   \n",
            " 42  GENDER_M                      42064 non-null  bool   \n",
            " 43  last_prod_enq2_AL             42064 non-null  bool   \n",
            " 44  last_prod_enq2_CC             42064 non-null  bool   \n",
            " 45  last_prod_enq2_ConsumerLoan   42064 non-null  bool   \n",
            " 46  last_prod_enq2_HL             42064 non-null  bool   \n",
            " 47  last_prod_enq2_PL             42064 non-null  bool   \n",
            " 48  last_prod_enq2_others         42064 non-null  bool   \n",
            " 49  first_prod_enq2_AL            42064 non-null  bool   \n",
            " 50  first_prod_enq2_CC            42064 non-null  bool   \n",
            " 51  first_prod_enq2_ConsumerLoan  42064 non-null  bool   \n",
            " 52  first_prod_enq2_HL            42064 non-null  bool   \n",
            " 53  first_prod_enq2_PL            42064 non-null  bool   \n",
            " 54  first_prod_enq2_others        42064 non-null  bool   \n",
            "dtypes: bool(16), float64(5), int64(33), object(1)\n",
            "memory usage: 13.2+ MB\n"
          ]
        }
      ]
    },
    {
      "cell_type": "markdown",
      "source": [
        "# Machine Learing model fitting\n"
      ],
      "metadata": {
        "id": "up_KzbK9ZkS8"
      }
    },
    {
      "cell_type": "markdown",
      "source": [
        "1. Random Forest"
      ],
      "metadata": {
        "id": "Y4h2Cs4eZ3S6"
      }
    },
    {
      "cell_type": "code",
      "source": [
        "y = df_encoded['Approved_Flag']\n",
        "x = df_encoded. drop ( ['Approved_Flag'], axis = 1 )\n",
        "\n",
        "\n",
        "x_train, x_test, y_train, y_test = train_test_split(x, y, test_size=0.2, random_state=42)\n",
        "\n",
        "\n"
      ],
      "metadata": {
        "id": "W7lOMUunV48P"
      },
      "execution_count": 14,
      "outputs": []
    },
    {
      "cell_type": "code",
      "source": [
        "rf_classifier = RandomForestClassifier(n_estimators = 200, random_state=42)\n",
        "rf_classifier.fit(x_train, y_train)"
      ],
      "metadata": {
        "colab": {
          "base_uri": "https://localhost:8080/",
          "height": 74
        },
        "id": "PGv2ADiaV45B",
        "outputId": "97289e5b-2ba3-4cd7-89ba-6e4d28305e11"
      },
      "execution_count": 15,
      "outputs": [
        {
          "output_type": "execute_result",
          "data": {
            "text/plain": [
              "RandomForestClassifier(n_estimators=200, random_state=42)"
            ],
            "text/html": [
              "<style>#sk-container-id-1 {color: black;background-color: white;}#sk-container-id-1 pre{padding: 0;}#sk-container-id-1 div.sk-toggleable {background-color: white;}#sk-container-id-1 label.sk-toggleable__label {cursor: pointer;display: block;width: 100%;margin-bottom: 0;padding: 0.3em;box-sizing: border-box;text-align: center;}#sk-container-id-1 label.sk-toggleable__label-arrow:before {content: \"▸\";float: left;margin-right: 0.25em;color: #696969;}#sk-container-id-1 label.sk-toggleable__label-arrow:hover:before {color: black;}#sk-container-id-1 div.sk-estimator:hover label.sk-toggleable__label-arrow:before {color: black;}#sk-container-id-1 div.sk-toggleable__content {max-height: 0;max-width: 0;overflow: hidden;text-align: left;background-color: #f0f8ff;}#sk-container-id-1 div.sk-toggleable__content pre {margin: 0.2em;color: black;border-radius: 0.25em;background-color: #f0f8ff;}#sk-container-id-1 input.sk-toggleable__control:checked~div.sk-toggleable__content {max-height: 200px;max-width: 100%;overflow: auto;}#sk-container-id-1 input.sk-toggleable__control:checked~label.sk-toggleable__label-arrow:before {content: \"▾\";}#sk-container-id-1 div.sk-estimator input.sk-toggleable__control:checked~label.sk-toggleable__label {background-color: #d4ebff;}#sk-container-id-1 div.sk-label input.sk-toggleable__control:checked~label.sk-toggleable__label {background-color: #d4ebff;}#sk-container-id-1 input.sk-hidden--visually {border: 0;clip: rect(1px 1px 1px 1px);clip: rect(1px, 1px, 1px, 1px);height: 1px;margin: -1px;overflow: hidden;padding: 0;position: absolute;width: 1px;}#sk-container-id-1 div.sk-estimator {font-family: monospace;background-color: #f0f8ff;border: 1px dotted black;border-radius: 0.25em;box-sizing: border-box;margin-bottom: 0.5em;}#sk-container-id-1 div.sk-estimator:hover {background-color: #d4ebff;}#sk-container-id-1 div.sk-parallel-item::after {content: \"\";width: 100%;border-bottom: 1px solid gray;flex-grow: 1;}#sk-container-id-1 div.sk-label:hover label.sk-toggleable__label {background-color: #d4ebff;}#sk-container-id-1 div.sk-serial::before {content: \"\";position: absolute;border-left: 1px solid gray;box-sizing: border-box;top: 0;bottom: 0;left: 50%;z-index: 0;}#sk-container-id-1 div.sk-serial {display: flex;flex-direction: column;align-items: center;background-color: white;padding-right: 0.2em;padding-left: 0.2em;position: relative;}#sk-container-id-1 div.sk-item {position: relative;z-index: 1;}#sk-container-id-1 div.sk-parallel {display: flex;align-items: stretch;justify-content: center;background-color: white;position: relative;}#sk-container-id-1 div.sk-item::before, #sk-container-id-1 div.sk-parallel-item::before {content: \"\";position: absolute;border-left: 1px solid gray;box-sizing: border-box;top: 0;bottom: 0;left: 50%;z-index: -1;}#sk-container-id-1 div.sk-parallel-item {display: flex;flex-direction: column;z-index: 1;position: relative;background-color: white;}#sk-container-id-1 div.sk-parallel-item:first-child::after {align-self: flex-end;width: 50%;}#sk-container-id-1 div.sk-parallel-item:last-child::after {align-self: flex-start;width: 50%;}#sk-container-id-1 div.sk-parallel-item:only-child::after {width: 0;}#sk-container-id-1 div.sk-dashed-wrapped {border: 1px dashed gray;margin: 0 0.4em 0.5em 0.4em;box-sizing: border-box;padding-bottom: 0.4em;background-color: white;}#sk-container-id-1 div.sk-label label {font-family: monospace;font-weight: bold;display: inline-block;line-height: 1.2em;}#sk-container-id-1 div.sk-label-container {text-align: center;}#sk-container-id-1 div.sk-container {/* jupyter's `normalize.less` sets `[hidden] { display: none; }` but bootstrap.min.css set `[hidden] { display: none !important; }` so we also need the `!important` here to be able to override the default hidden behavior on the sphinx rendered scikit-learn.org. See: https://github.com/scikit-learn/scikit-learn/issues/21755 */display: inline-block !important;position: relative;}#sk-container-id-1 div.sk-text-repr-fallback {display: none;}</style><div id=\"sk-container-id-1\" class=\"sk-top-container\"><div class=\"sk-text-repr-fallback\"><pre>RandomForestClassifier(n_estimators=200, random_state=42)</pre><b>In a Jupyter environment, please rerun this cell to show the HTML representation or trust the notebook. <br />On GitHub, the HTML representation is unable to render, please try loading this page with nbviewer.org.</b></div><div class=\"sk-container\" hidden><div class=\"sk-item\"><div class=\"sk-estimator sk-toggleable\"><input class=\"sk-toggleable__control sk-hidden--visually\" id=\"sk-estimator-id-1\" type=\"checkbox\" checked><label for=\"sk-estimator-id-1\" class=\"sk-toggleable__label sk-toggleable__label-arrow\">RandomForestClassifier</label><div class=\"sk-toggleable__content\"><pre>RandomForestClassifier(n_estimators=200, random_state=42)</pre></div></div></div></div></div>"
            ]
          },
          "metadata": {},
          "execution_count": 15
        }
      ]
    },
    {
      "cell_type": "code",
      "source": [
        "y_pred = rf_classifier.predict(x_test)\n",
        "\n",
        "accuracy = accuracy_score(y_test, y_pred)\n",
        "print ()\n",
        "print(f'Accuracy: {accuracy}')\n",
        "print ()\n",
        "precision, recall, f1_score, _ = precision_recall_fscore_support(y_test, y_pred)\n"
      ],
      "metadata": {
        "colab": {
          "base_uri": "https://localhost:8080/"
        },
        "id": "Oc_yEzTtV41i",
        "outputId": "21247771-a11e-4eee-af41-70ba416273fb"
      },
      "execution_count": 16,
      "outputs": [
        {
          "output_type": "stream",
          "name": "stdout",
          "text": [
            "\n",
            "Accuracy: 0.7636990372043266\n",
            "\n"
          ]
        }
      ]
    },
    {
      "cell_type": "code",
      "source": [
        "for i, v in enumerate(['p1', 'p2', 'p3', 'p4']):\n",
        "    print(f\"Class {v}:\")\n",
        "    print(f\"Precision: {precision[i]}\")\n",
        "    print(f\"Recall: {recall[i]}\")\n",
        "    print(f\"F1 Score: {f1_score[i]}\")\n",
        "    print()"
      ],
      "metadata": {
        "colab": {
          "base_uri": "https://localhost:8080/"
        },
        "id": "CAqSrg8TV4xz",
        "outputId": "7b53f333-c3a0-4564-c9e6-674dff4f1543"
      },
      "execution_count": 17,
      "outputs": [
        {
          "output_type": "stream",
          "name": "stdout",
          "text": [
            "Class p1:\n",
            "Precision: 0.8370457209847597\n",
            "Recall: 0.7041420118343196\n",
            "F1 Score: 0.7648634172469203\n",
            "\n",
            "Class p2:\n",
            "Precision: 0.7957519116397621\n",
            "Recall: 0.9282457879088206\n",
            "F1 Score: 0.8569075937785909\n",
            "\n",
            "Class p3:\n",
            "Precision: 0.4423380726698262\n",
            "Recall: 0.21132075471698114\n",
            "F1 Score: 0.28600612870275793\n",
            "\n",
            "Class p4:\n",
            "Precision: 0.7178502879078695\n",
            "Recall: 0.7269193391642371\n",
            "F1 Score: 0.7223563495895703\n",
            "\n"
          ]
        }
      ]
    },
    {
      "cell_type": "markdown",
      "source": [
        "2. xgboost"
      ],
      "metadata": {
        "id": "3EJAIDcxaT49"
      }
    },
    {
      "cell_type": "code",
      "source": [
        "\n",
        "xgb_classifier = xgb.XGBClassifier(objective='multi:softmax',  num_class=4)\n",
        "\n",
        "y = df_encoded['Approved_Flag']\n",
        "x = df_encoded. drop ( ['Approved_Flag'], axis = 1 )\n",
        "\n",
        "label_encoder = LabelEncoder()\n",
        "y_encoded = label_encoder.fit_transform(y)\n",
        "\n",
        "\n",
        "x_train, x_test, y_train, y_test = train_test_split(x, y_encoded, test_size=0.2, random_state=42)\n",
        "\n"
      ],
      "metadata": {
        "id": "NrS97aAyV4uc"
      },
      "execution_count": 18,
      "outputs": []
    },
    {
      "cell_type": "code",
      "source": [
        "xgb_classifier.fit(x_train, y_train)\n",
        "y_pred = xgb_classifier.predict(x_test)\n",
        "\n",
        "accuracy = accuracy_score(y_test, y_pred)\n",
        "print ()\n",
        "print(f'Accuracy: {accuracy:.2f}')\n",
        "print ()\n",
        "\n",
        "precision, recall, f1_score, _ = precision_recall_fscore_support(y_test, y_pred)\n",
        "\n",
        "for i, v in enumerate(['p1', 'p2', 'p3', 'p4']):\n",
        "    print(f\"Class {v}:\")\n",
        "    print(f\"Precision: {precision[i]}\")\n",
        "    print(f\"Recall: {recall[i]}\")\n",
        "    print(f\"F1 Score: {f1_score[i]}\")\n",
        "    print()"
      ],
      "metadata": {
        "colab": {
          "base_uri": "https://localhost:8080/"
        },
        "id": "RO7i8ZvwV4pV",
        "outputId": "42401056-245d-41bc-e61d-2ecc4645cccf"
      },
      "execution_count": 19,
      "outputs": [
        {
          "output_type": "stream",
          "name": "stdout",
          "text": [
            "\n",
            "Accuracy: 0.78\n",
            "\n",
            "Class p1:\n",
            "Precision: 0.823906083244397\n",
            "Recall: 0.7613412228796844\n",
            "F1 Score: 0.7913890312660173\n",
            "\n",
            "Class p2:\n",
            "Precision: 0.8255418233924413\n",
            "Recall: 0.913577799801784\n",
            "F1 Score: 0.8673315769665036\n",
            "\n",
            "Class p3:\n",
            "Precision: 0.4756380510440835\n",
            "Recall: 0.30943396226415093\n",
            "F1 Score: 0.3749428440786465\n",
            "\n",
            "Class p4:\n",
            "Precision: 0.7342386032977691\n",
            "Recall: 0.7356656948493683\n",
            "F1 Score: 0.7349514563106796\n",
            "\n"
          ]
        }
      ]
    },
    {
      "cell_type": "markdown",
      "source": [
        "3. Decision Tree"
      ],
      "metadata": {
        "id": "CjkTkO0kbExC"
      }
    },
    {
      "cell_type": "code",
      "source": [
        "\n",
        "from sklearn.tree import DecisionTreeClassifier\n",
        "\n",
        "\n",
        "y = df_encoded['Approved_Flag']\n",
        "x = df_encoded. drop ( ['Approved_Flag'], axis = 1 )\n",
        "\n",
        "x_train, x_test, y_train, y_test = train_test_split(x, y, test_size=0.2, random_state=42)\n",
        "\n",
        "\n",
        "dt_model = DecisionTreeClassifier(max_depth=20, min_samples_split=10)\n",
        "dt_model.fit(x_train, y_train)\n",
        "y_pred = dt_model.predict(x_test)\n",
        "\n",
        "accuracy = accuracy_score(y_test, y_pred)\n",
        "print ()\n",
        "print(f\"Accuracy: {accuracy:.2f}\")\n",
        "print ()\n",
        "\n",
        "precision, recall, f1_score, _ = precision_recall_fscore_support(y_test, y_pred)\n",
        "\n",
        "for i, v in enumerate(['p1', 'p2', 'p3', 'p4']):\n",
        "    print(f\"Class {v}:\")\n",
        "    print(f\"Precision: {precision[i]}\")\n",
        "    print(f\"Recall: {recall[i]}\")\n",
        "    print(f\"F1 Score: {f1_score[i]}\")\n",
        "    print()\n"
      ],
      "metadata": {
        "colab": {
          "base_uri": "https://localhost:8080/"
        },
        "id": "v04nl1QrV4l-",
        "outputId": "f1d10198-5959-4f83-a8a4-f48352f04144"
      },
      "execution_count": 20,
      "outputs": [
        {
          "output_type": "stream",
          "name": "stdout",
          "text": [
            "\n",
            "Accuracy: 0.71\n",
            "\n",
            "Class p1:\n",
            "Precision: 0.7263779527559056\n",
            "Recall: 0.727810650887574\n",
            "F1 Score: 0.7270935960591134\n",
            "\n",
            "Class p2:\n",
            "Precision: 0.8095145631067961\n",
            "Recall: 0.8263627353815659\n",
            "F1 Score: 0.8178518881804807\n",
            "\n",
            "Class p3:\n",
            "Precision: 0.3420221169036335\n",
            "Recall: 0.3267924528301887\n",
            "F1 Score: 0.33423388653029723\n",
            "\n",
            "Class p4:\n",
            "Precision: 0.6534148827726809\n",
            "Recall: 0.6229348882410107\n",
            "F1 Score: 0.6378109452736318\n",
            "\n"
          ]
        }
      ]
    },
    {
      "cell_type": "markdown",
      "source": [
        "# xgboost is giving the best results\n",
        "  We will further finetune it"
      ],
      "metadata": {
        "id": "N2gX_WdXbRow"
      }
    },
    {
      "cell_type": "markdown",
      "source": [
        "Apply standard scaler"
      ],
      "metadata": {
        "id": "wSq-DOfdbbwj"
      }
    },
    {
      "cell_type": "code",
      "source": [
        "\n",
        "\n",
        "from sklearn.preprocessing import StandardScaler\n",
        "\n",
        "columns_to_be_scaled = ['Age_Oldest_TL','Age_Newest_TL','time_since_recent_payment',\n",
        "'max_recent_level_of_deliq','recent_level_of_deliq',\n",
        "'time_since_recent_enq','NETMONTHLYINCOME','Time_With_Curr_Empr']\n",
        "\n",
        "for i in columns_to_be_scaled:\n",
        "    column_data = df_encoded[i].values.reshape(-1, 1)\n",
        "    scaler = StandardScaler()\n",
        "    scaled_column = scaler.fit_transform(column_data)\n",
        "    df_encoded[i] = scaled_column"
      ],
      "metadata": {
        "id": "TRQkFx4nV4iX"
      },
      "execution_count": 21,
      "outputs": []
    },
    {
      "cell_type": "code",
      "source": [
        "import xgboost as xgb\n",
        "from sklearn.preprocessing import LabelEncoder\n",
        "\n",
        "xgb_classifier = xgb.XGBClassifier(objective='multi:softmax',  num_class=4)\n",
        "\n",
        "\n",
        "\n",
        "y = df_encoded['Approved_Flag']\n",
        "x = df_encoded. drop ( ['Approved_Flag'], axis = 1 )\n",
        "\n",
        "\n",
        "label_encoder = LabelEncoder()\n",
        "y_encoded = label_encoder.fit_transform(y)\n",
        "\n",
        "\n",
        "x_train, x_test, y_train, y_test = train_test_split(x, y_encoded, test_size=0.2, random_state=42)\n",
        "\n",
        "\n",
        "\n",
        "\n",
        "xgb_classifier.fit(x_train, y_train)\n",
        "y_pred = xgb_classifier.predict(x_test)\n",
        "\n",
        "accuracy = accuracy_score(y_test, y_pred)\n",
        "print(f'Accuracy: {accuracy:.2f}')\n",
        "\n",
        "\n",
        "precision, recall, f1_score, _ = precision_recall_fscore_support(y_test, y_pred)\n",
        "\n",
        "for i, v in enumerate(['p1', 'p2', 'p3', 'p4']):\n",
        "    print(f\"Class {v}:\")\n",
        "    print(f\"Precision: {precision[i]}\")\n",
        "    print(f\"Recall: {recall[i]}\")\n",
        "    print(f\"F1 Score: {f1_score[i]}\")\n",
        "    print()"
      ],
      "metadata": {
        "colab": {
          "base_uri": "https://localhost:8080/"
        },
        "id": "fUfqZ4T3V4fO",
        "outputId": "ce6debf5-fcd5-4875-aa3a-64ba1e2df08d"
      },
      "execution_count": 22,
      "outputs": [
        {
          "output_type": "stream",
          "name": "stdout",
          "text": [
            "Accuracy: 0.78\n",
            "Class p1:\n",
            "Precision: 0.823906083244397\n",
            "Recall: 0.7613412228796844\n",
            "F1 Score: 0.7913890312660173\n",
            "\n",
            "Class p2:\n",
            "Precision: 0.8255418233924413\n",
            "Recall: 0.913577799801784\n",
            "F1 Score: 0.8673315769665036\n",
            "\n",
            "Class p3:\n",
            "Precision: 0.4756380510440835\n",
            "Recall: 0.30943396226415093\n",
            "F1 Score: 0.3749428440786465\n",
            "\n",
            "Class p4:\n",
            "Precision: 0.7342386032977691\n",
            "Recall: 0.7356656948493683\n",
            "F1 Score: 0.7349514563106796\n",
            "\n"
          ]
        }
      ]
    },
    {
      "cell_type": "code",
      "source": [
        "# Hyperparameter tuning in xgboost\n",
        "from sklearn.model_selection import GridSearchCV\n",
        "x_train, x_test, y_train, y_test = train_test_split(x, y_encoded, test_size=0.2, random_state=42)\n",
        "\n",
        "# Define the XGBClassifier with the initial set of hyperparameters\n",
        "xgb_model = xgb.XGBClassifier(objective='multi:softmax', num_class=4)\n",
        "\n",
        "# Define the parameter grid for hyperparameter tuning\n",
        "\n",
        "param_grid = {\n",
        "    'n_estimators': [50, 100, 200],\n",
        "    'max_depth': [3, 5, 7],\n",
        "    'learning_rate': [0.01, 0.1, 0.2],\n",
        "}\n",
        "\n",
        "grid_search = GridSearchCV(estimator=xgb_model, param_grid=param_grid, cv=3, scoring='accuracy', n_jobs=-1)\n",
        "grid_search.fit(x_train, y_train)\n",
        "\n",
        "\n"
      ],
      "metadata": {
        "colab": {
          "base_uri": "https://localhost:8080/",
          "height": 116
        },
        "id": "OSOwkhzAV4bH",
        "outputId": "30b2178a-6dad-4e4b-fe8e-517ff23a7c43"
      },
      "execution_count": 23,
      "outputs": [
        {
          "output_type": "execute_result",
          "data": {
            "text/plain": [
              "GridSearchCV(cv=3,\n",
              "             estimator=XGBClassifier(base_score=None, booster=None,\n",
              "                                     callbacks=None, colsample_bylevel=None,\n",
              "                                     colsample_bynode=None,\n",
              "                                     colsample_bytree=None, device=None,\n",
              "                                     early_stopping_rounds=None,\n",
              "                                     enable_categorical=False, eval_metric=None,\n",
              "                                     feature_types=None, gamma=None,\n",
              "                                     grow_policy=None, importance_type=None,\n",
              "                                     interaction_constraints=None,\n",
              "                                     learning_rate=None,...\n",
              "                                     max_cat_threshold=None,\n",
              "                                     max_cat_to_onehot=None,\n",
              "                                     max_delta_step=None, max_depth=None,\n",
              "                                     max_leaves=None, min_child_weight=None,\n",
              "                                     missing=nan, monotone_constraints=None,\n",
              "                                     multi_strategy=None, n_estimators=None,\n",
              "                                     n_jobs=None, num_class=4,\n",
              "                                     num_parallel_tree=None, ...),\n",
              "             n_jobs=-1,\n",
              "             param_grid={'learning_rate': [0.01, 0.1, 0.2],\n",
              "                         'max_depth': [3, 5, 7],\n",
              "                         'n_estimators': [50, 100, 200]},\n",
              "             scoring='accuracy')"
            ],
            "text/html": [
              "<style>#sk-container-id-2 {color: black;background-color: white;}#sk-container-id-2 pre{padding: 0;}#sk-container-id-2 div.sk-toggleable {background-color: white;}#sk-container-id-2 label.sk-toggleable__label {cursor: pointer;display: block;width: 100%;margin-bottom: 0;padding: 0.3em;box-sizing: border-box;text-align: center;}#sk-container-id-2 label.sk-toggleable__label-arrow:before {content: \"▸\";float: left;margin-right: 0.25em;color: #696969;}#sk-container-id-2 label.sk-toggleable__label-arrow:hover:before {color: black;}#sk-container-id-2 div.sk-estimator:hover label.sk-toggleable__label-arrow:before {color: black;}#sk-container-id-2 div.sk-toggleable__content {max-height: 0;max-width: 0;overflow: hidden;text-align: left;background-color: #f0f8ff;}#sk-container-id-2 div.sk-toggleable__content pre {margin: 0.2em;color: black;border-radius: 0.25em;background-color: #f0f8ff;}#sk-container-id-2 input.sk-toggleable__control:checked~div.sk-toggleable__content {max-height: 200px;max-width: 100%;overflow: auto;}#sk-container-id-2 input.sk-toggleable__control:checked~label.sk-toggleable__label-arrow:before {content: \"▾\";}#sk-container-id-2 div.sk-estimator input.sk-toggleable__control:checked~label.sk-toggleable__label {background-color: #d4ebff;}#sk-container-id-2 div.sk-label input.sk-toggleable__control:checked~label.sk-toggleable__label {background-color: #d4ebff;}#sk-container-id-2 input.sk-hidden--visually {border: 0;clip: rect(1px 1px 1px 1px);clip: rect(1px, 1px, 1px, 1px);height: 1px;margin: -1px;overflow: hidden;padding: 0;position: absolute;width: 1px;}#sk-container-id-2 div.sk-estimator {font-family: monospace;background-color: #f0f8ff;border: 1px dotted black;border-radius: 0.25em;box-sizing: border-box;margin-bottom: 0.5em;}#sk-container-id-2 div.sk-estimator:hover {background-color: #d4ebff;}#sk-container-id-2 div.sk-parallel-item::after {content: \"\";width: 100%;border-bottom: 1px solid gray;flex-grow: 1;}#sk-container-id-2 div.sk-label:hover label.sk-toggleable__label {background-color: #d4ebff;}#sk-container-id-2 div.sk-serial::before {content: \"\";position: absolute;border-left: 1px solid gray;box-sizing: border-box;top: 0;bottom: 0;left: 50%;z-index: 0;}#sk-container-id-2 div.sk-serial {display: flex;flex-direction: column;align-items: center;background-color: white;padding-right: 0.2em;padding-left: 0.2em;position: relative;}#sk-container-id-2 div.sk-item {position: relative;z-index: 1;}#sk-container-id-2 div.sk-parallel {display: flex;align-items: stretch;justify-content: center;background-color: white;position: relative;}#sk-container-id-2 div.sk-item::before, #sk-container-id-2 div.sk-parallel-item::before {content: \"\";position: absolute;border-left: 1px solid gray;box-sizing: border-box;top: 0;bottom: 0;left: 50%;z-index: -1;}#sk-container-id-2 div.sk-parallel-item {display: flex;flex-direction: column;z-index: 1;position: relative;background-color: white;}#sk-container-id-2 div.sk-parallel-item:first-child::after {align-self: flex-end;width: 50%;}#sk-container-id-2 div.sk-parallel-item:last-child::after {align-self: flex-start;width: 50%;}#sk-container-id-2 div.sk-parallel-item:only-child::after {width: 0;}#sk-container-id-2 div.sk-dashed-wrapped {border: 1px dashed gray;margin: 0 0.4em 0.5em 0.4em;box-sizing: border-box;padding-bottom: 0.4em;background-color: white;}#sk-container-id-2 div.sk-label label {font-family: monospace;font-weight: bold;display: inline-block;line-height: 1.2em;}#sk-container-id-2 div.sk-label-container {text-align: center;}#sk-container-id-2 div.sk-container {/* jupyter's `normalize.less` sets `[hidden] { display: none; }` but bootstrap.min.css set `[hidden] { display: none !important; }` so we also need the `!important` here to be able to override the default hidden behavior on the sphinx rendered scikit-learn.org. See: https://github.com/scikit-learn/scikit-learn/issues/21755 */display: inline-block !important;position: relative;}#sk-container-id-2 div.sk-text-repr-fallback {display: none;}</style><div id=\"sk-container-id-2\" class=\"sk-top-container\"><div class=\"sk-text-repr-fallback\"><pre>GridSearchCV(cv=3,\n",
              "             estimator=XGBClassifier(base_score=None, booster=None,\n",
              "                                     callbacks=None, colsample_bylevel=None,\n",
              "                                     colsample_bynode=None,\n",
              "                                     colsample_bytree=None, device=None,\n",
              "                                     early_stopping_rounds=None,\n",
              "                                     enable_categorical=False, eval_metric=None,\n",
              "                                     feature_types=None, gamma=None,\n",
              "                                     grow_policy=None, importance_type=None,\n",
              "                                     interaction_constraints=None,\n",
              "                                     learning_rate=None,...\n",
              "                                     max_cat_threshold=None,\n",
              "                                     max_cat_to_onehot=None,\n",
              "                                     max_delta_step=None, max_depth=None,\n",
              "                                     max_leaves=None, min_child_weight=None,\n",
              "                                     missing=nan, monotone_constraints=None,\n",
              "                                     multi_strategy=None, n_estimators=None,\n",
              "                                     n_jobs=None, num_class=4,\n",
              "                                     num_parallel_tree=None, ...),\n",
              "             n_jobs=-1,\n",
              "             param_grid={&#x27;learning_rate&#x27;: [0.01, 0.1, 0.2],\n",
              "                         &#x27;max_depth&#x27;: [3, 5, 7],\n",
              "                         &#x27;n_estimators&#x27;: [50, 100, 200]},\n",
              "             scoring=&#x27;accuracy&#x27;)</pre><b>In a Jupyter environment, please rerun this cell to show the HTML representation or trust the notebook. <br />On GitHub, the HTML representation is unable to render, please try loading this page with nbviewer.org.</b></div><div class=\"sk-container\" hidden><div class=\"sk-item sk-dashed-wrapped\"><div class=\"sk-label-container\"><div class=\"sk-label sk-toggleable\"><input class=\"sk-toggleable__control sk-hidden--visually\" id=\"sk-estimator-id-2\" type=\"checkbox\" ><label for=\"sk-estimator-id-2\" class=\"sk-toggleable__label sk-toggleable__label-arrow\">GridSearchCV</label><div class=\"sk-toggleable__content\"><pre>GridSearchCV(cv=3,\n",
              "             estimator=XGBClassifier(base_score=None, booster=None,\n",
              "                                     callbacks=None, colsample_bylevel=None,\n",
              "                                     colsample_bynode=None,\n",
              "                                     colsample_bytree=None, device=None,\n",
              "                                     early_stopping_rounds=None,\n",
              "                                     enable_categorical=False, eval_metric=None,\n",
              "                                     feature_types=None, gamma=None,\n",
              "                                     grow_policy=None, importance_type=None,\n",
              "                                     interaction_constraints=None,\n",
              "                                     learning_rate=None,...\n",
              "                                     max_cat_threshold=None,\n",
              "                                     max_cat_to_onehot=None,\n",
              "                                     max_delta_step=None, max_depth=None,\n",
              "                                     max_leaves=None, min_child_weight=None,\n",
              "                                     missing=nan, monotone_constraints=None,\n",
              "                                     multi_strategy=None, n_estimators=None,\n",
              "                                     n_jobs=None, num_class=4,\n",
              "                                     num_parallel_tree=None, ...),\n",
              "             n_jobs=-1,\n",
              "             param_grid={&#x27;learning_rate&#x27;: [0.01, 0.1, 0.2],\n",
              "                         &#x27;max_depth&#x27;: [3, 5, 7],\n",
              "                         &#x27;n_estimators&#x27;: [50, 100, 200]},\n",
              "             scoring=&#x27;accuracy&#x27;)</pre></div></div></div><div class=\"sk-parallel\"><div class=\"sk-parallel-item\"><div class=\"sk-item\"><div class=\"sk-label-container\"><div class=\"sk-label sk-toggleable\"><input class=\"sk-toggleable__control sk-hidden--visually\" id=\"sk-estimator-id-3\" type=\"checkbox\" ><label for=\"sk-estimator-id-3\" class=\"sk-toggleable__label sk-toggleable__label-arrow\">estimator: XGBClassifier</label><div class=\"sk-toggleable__content\"><pre>XGBClassifier(base_score=None, booster=None, callbacks=None,\n",
              "              colsample_bylevel=None, colsample_bynode=None,\n",
              "              colsample_bytree=None, device=None, early_stopping_rounds=None,\n",
              "              enable_categorical=False, eval_metric=None, feature_types=None,\n",
              "              gamma=None, grow_policy=None, importance_type=None,\n",
              "              interaction_constraints=None, learning_rate=None, max_bin=None,\n",
              "              max_cat_threshold=None, max_cat_to_onehot=None,\n",
              "              max_delta_step=None, max_depth=None, max_leaves=None,\n",
              "              min_child_weight=None, missing=nan, monotone_constraints=None,\n",
              "              multi_strategy=None, n_estimators=None, n_jobs=None, num_class=4,\n",
              "              num_parallel_tree=None, ...)</pre></div></div></div><div class=\"sk-serial\"><div class=\"sk-item\"><div class=\"sk-estimator sk-toggleable\"><input class=\"sk-toggleable__control sk-hidden--visually\" id=\"sk-estimator-id-4\" type=\"checkbox\" ><label for=\"sk-estimator-id-4\" class=\"sk-toggleable__label sk-toggleable__label-arrow\">XGBClassifier</label><div class=\"sk-toggleable__content\"><pre>XGBClassifier(base_score=None, booster=None, callbacks=None,\n",
              "              colsample_bylevel=None, colsample_bynode=None,\n",
              "              colsample_bytree=None, device=None, early_stopping_rounds=None,\n",
              "              enable_categorical=False, eval_metric=None, feature_types=None,\n",
              "              gamma=None, grow_policy=None, importance_type=None,\n",
              "              interaction_constraints=None, learning_rate=None, max_bin=None,\n",
              "              max_cat_threshold=None, max_cat_to_onehot=None,\n",
              "              max_delta_step=None, max_depth=None, max_leaves=None,\n",
              "              min_child_weight=None, missing=nan, monotone_constraints=None,\n",
              "              multi_strategy=None, n_estimators=None, n_jobs=None, num_class=4,\n",
              "              num_parallel_tree=None, ...)</pre></div></div></div></div></div></div></div></div></div></div>"
            ]
          },
          "metadata": {},
          "execution_count": 23
        }
      ]
    },
    {
      "cell_type": "code",
      "source": [
        "# Print the best hyperparameters\n",
        "print(\"Best Hyperparameters:\", grid_search.best_params_)\n",
        "\n",
        "# Evaluate the model with the best hyperparameters on the test set\n",
        "best_model = grid_search.best_estimator_\n",
        "accuracy = best_model.score(x_test, y_test)\n",
        "print(\"Test Accuracy:\", accuracy)\n",
        "\n",
        "\n",
        "# Best Hyperparameters: {'learning_rate': 0.2, 'max_depth': 3, 'n_estimators': 200}\n",
        "\n",
        "# Based on risk appetite of the bank, you will suggest P1,P2,P3,P4 to the business end user\n"
      ],
      "metadata": {
        "colab": {
          "base_uri": "https://localhost:8080/"
        },
        "id": "YzrMlCAFV4W0",
        "outputId": "5289aff3-89d8-4dbf-c900-784834c3a4de"
      },
      "execution_count": 24,
      "outputs": [
        {
          "output_type": "stream",
          "name": "stdout",
          "text": [
            "Best Hyperparameters: {'learning_rate': 0.2, 'max_depth': 3, 'n_estimators': 200}\n",
            "Test Accuracy: 0.7811719957209081\n"
          ]
        }
      ]
    }
  ]
}